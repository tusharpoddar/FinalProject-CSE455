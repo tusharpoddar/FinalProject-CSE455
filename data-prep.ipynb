{
 "cells": [
  {
   "cell_type": "markdown",
   "metadata": {
    "id": "Ydp2VivDgaFU"
   },
   "source": [
    "## Importing the dataset from kagggle"
   ]
  },
  {
   "cell_type": "code",
   "execution_count": 2,
   "metadata": {
    "executionInfo": {
     "elapsed": 8,
     "status": "ok",
     "timestamp": 1647380134114,
     "user": {
      "displayName": "Tushar Poddar",
      "photoUrl": "https://lh3.googleusercontent.com/a-/AOh14GijjDnZ-A7eym2dGtUNA51GNiMJUMNX0T9cmQLA=s64",
      "userId": "08852664720419362192"
     },
     "user_tz": 420
    },
    "id": "QWfM9LQgf1ie"
   },
   "outputs": [],
   "source": [
    "import pandas as pd\n",
    "import os"
   ]
  },
  {
   "cell_type": "code",
   "execution_count": null,
   "metadata": {
    "colab": {
     "base_uri": "https://localhost:8080/"
    },
    "executionInfo": {
     "elapsed": 7,
     "status": "ok",
     "timestamp": 1647380145976,
     "user": {
      "displayName": "Tushar Poddar",
      "photoUrl": "https://lh3.googleusercontent.com/a-/AOh14GijjDnZ-A7eym2dGtUNA51GNiMJUMNX0T9cmQLA=s64",
      "userId": "08852664720419362192"
     },
     "user_tz": 420
    },
    "id": "PMI4VDDYgeB1",
    "outputId": "de367715-dba9-45e2-9620-14ea01a82bbf"
   },
   "outputs": [],
   "source": [
    "pd"
   ]
  },
  {
   "cell_type": "markdown",
   "metadata": {},
   "source": [
    "## How is the split data stored\n",
    "\n",
    "Since we are using the ImageLoader class in the training jupyter notebook, it expects the data to be stored in a specific way. The train and testing folder have subfolders that represent the different classes of leafs which in turn contain the images of the leafs that belongs to the particular class. "
   ]
  },
  {
   "cell_type": "code",
   "execution_count": 4,
   "metadata": {
    "executionInfo": {
     "elapsed": 1561,
     "status": "ok",
     "timestamp": 1647386705932,
     "user": {
      "displayName": "Tushar Poddar",
      "photoUrl": "https://lh3.googleusercontent.com/a-/AOh14GijjDnZ-A7eym2dGtUNA51GNiMJUMNX0T9cmQLA=s64",
      "userId": "08852664720419362192"
     },
     "user_tz": 420
    },
    "id": "IOgSfukcgeZ6"
   },
   "outputs": [],
   "source": [
    "testdata = pd.read_csv(\"./leaf-classification/test.csv\")"
   ]
  },
  {
   "cell_type": "code",
   "execution_count": null,
   "metadata": {},
   "outputs": [],
   "source": [
    "for i in range(len(testdata)):\n",
    "  imagename = testdata[\"id\"][i]\n",
    "  speciesname = testdata[\"species\"][i]\n",
    "    \n",
    "    \n",
    "  if not os.path.exists(\"./leaf-classification/test/\" + speciesname + \"/\"):\n",
    "    os.mkdir(\"./leaf-classification/test/\" + speciesname + \"/\")\n",
    "\n",
    "  if os.path.exists(\"./leaf-classification/images/\" + str(imagename) + \".jpg\"):\n",
    "    os.rename(\"./leaf-classification/images/\" + str(imagename) + \".jpg\", \"./leaf-classification/test/\" + speciesname + \"/\" + str(imagename) + \".jpg\")\n",
    "    "
   ]
  },
  {
   "cell_type": "code",
   "execution_count": 7,
   "metadata": {
    "colab": {
     "base_uri": "https://localhost:8080/"
    },
    "executionInfo": {
     "elapsed": 1014,
     "status": "ok",
     "timestamp": 1647388078460,
     "user": {
      "displayName": "Tushar Poddar",
      "photoUrl": "https://lh3.googleusercontent.com/a-/AOh14GijjDnZ-A7eym2dGtUNA51GNiMJUMNX0T9cmQLA=s64",
      "userId": "08852664720419362192"
     },
     "user_tz": 420
    },
    "id": "MSzAY9Jm-wff",
    "outputId": "0055cddd-b7b9-4834-9065-57cd800be55a"
   },
   "outputs": [
    {
     "data": {
      "text/plain": [
       "594"
      ]
     },
     "execution_count": 7,
     "metadata": {},
     "output_type": "execute_result"
    }
   ],
   "source": [
    "len(testdata.index)"
   ]
  },
  {
   "cell_type": "markdown",
   "metadata": {
    "id": "_CYnO8rT_Gjw"
   },
   "source": [
    "## Preparing training data - "
   ]
  },
  {
   "cell_type": "code",
   "execution_count": 8,
   "metadata": {
    "executionInfo": {
     "elapsed": 2797,
     "status": "ok",
     "timestamp": 1647388144051,
     "user": {
      "displayName": "Tushar Poddar",
      "photoUrl": "https://lh3.googleusercontent.com/a-/AOh14GijjDnZ-A7eym2dGtUNA51GNiMJUMNX0T9cmQLA=s64",
      "userId": "08852664720419362192"
     },
     "user_tz": 420
    },
    "id": "N1sf2Tcr-ymS"
   },
   "outputs": [],
   "source": [
    "traindata = pd.read_csv(\"./leaf-classification/train.csv\")"
   ]
  },
  {
   "cell_type": "code",
   "execution_count": 9,
   "metadata": {
    "id": "g1lEKgnr-yws"
   },
   "outputs": [],
   "source": [
    "for i in range(len(traindata)):\n",
    "  imagename = traindata[\"id\"][i]\n",
    "  speciesname = traindata[\"species\"][i]\n",
    "    \n",
    "    \n",
    "  if not os.path.exists(\"./leaf-classification/train/\" + speciesname + \"/\"):\n",
    "    os.mkdir(\"./leaf-classification/train/\" + speciesname + \"/\")\n",
    "\n",
    "  if os.path.exists(\"./leaf-classification/images/\" + str(imagename) + \".jpg\"):\n",
    "    os.rename(\"./leaf-classification/images/\" + str(imagename) + \".jpg\", \"./leaf-classification/train/\" + speciesname + \"/\" + str(imagename) + \".jpg\")"
   ]
  },
  {
   "cell_type": "code",
   "execution_count": 10,
   "metadata": {
    "colab": {
     "base_uri": "https://localhost:8080/"
    },
    "executionInfo": {
     "elapsed": 21,
     "status": "ok",
     "timestamp": 1647390337923,
     "user": {
      "displayName": "Tushar Poddar",
      "photoUrl": "https://lh3.googleusercontent.com/a-/AOh14GijjDnZ-A7eym2dGtUNA51GNiMJUMNX0T9cmQLA=s64",
      "userId": "08852664720419362192"
     },
     "user_tz": 420
    },
    "id": "ssYAO6PQ-y46",
    "outputId": "879d472e-21be-4f7c-daea-8e0b341707d7"
   },
   "outputs": [
    {
     "data": {
      "text/plain": [
       "990"
      ]
     },
     "execution_count": 10,
     "metadata": {},
     "output_type": "execute_result"
    }
   ],
   "source": [
    "len(traindata)"
   ]
  },
  {
   "cell_type": "code",
   "execution_count": 11,
   "metadata": {
    "executionInfo": {
     "elapsed": 830,
     "status": "ok",
     "timestamp": 1647390385081,
     "user": {
      "displayName": "Tushar Poddar",
      "photoUrl": "https://lh3.googleusercontent.com/a-/AOh14GijjDnZ-A7eym2dGtUNA51GNiMJUMNX0T9cmQLA=s64",
      "userId": "08852664720419362192"
     },
     "user_tz": 420
    },
    "id": "THJbHizz-zB5"
   },
   "outputs": [],
   "source": [
    "classes = os.listdir(\"./leaf-classification/train/\")"
   ]
  },
  {
   "cell_type": "code",
   "execution_count": 12,
   "metadata": {
    "executionInfo": {
     "elapsed": 771,
     "status": "ok",
     "timestamp": 1647390401387,
     "user": {
      "displayName": "Tushar Poddar",
      "photoUrl": "https://lh3.googleusercontent.com/a-/AOh14GijjDnZ-A7eym2dGtUNA51GNiMJUMNX0T9cmQLA=s64",
      "userId": "08852664720419362192"
     },
     "user_tz": 420
    },
    "id": "R27Bwvzx-zJx"
   },
   "outputs": [],
   "source": [
    "classes.sort()"
   ]
  },
  {
   "cell_type": "code",
   "execution_count": 13,
   "metadata": {
    "colab": {
     "base_uri": "https://localhost:8080/"
    },
    "executionInfo": {
     "elapsed": 765,
     "status": "ok",
     "timestamp": 1647390408386,
     "user": {
      "displayName": "Tushar Poddar",
      "photoUrl": "https://lh3.googleusercontent.com/a-/AOh14GijjDnZ-A7eym2dGtUNA51GNiMJUMNX0T9cmQLA=s64",
      "userId": "08852664720419362192"
     },
     "user_tz": 420
    },
    "id": "gMQGGdeC-zSm",
    "outputId": "b8246b99-36fc-445f-b96f-849840e4fe79"
   },
   "outputs": [
    {
     "data": {
      "text/plain": [
       "['Acer_Capillipes',\n",
       " 'Acer_Circinatum',\n",
       " 'Acer_Mono',\n",
       " 'Acer_Opalus',\n",
       " 'Acer_Palmatum',\n",
       " 'Acer_Pictum',\n",
       " 'Acer_Platanoids',\n",
       " 'Acer_Rubrum',\n",
       " 'Acer_Rufinerve',\n",
       " 'Acer_Saccharinum',\n",
       " 'Alnus_Cordata',\n",
       " 'Alnus_Maximowiczii',\n",
       " 'Alnus_Rubra',\n",
       " 'Alnus_Sieboldiana',\n",
       " 'Alnus_Viridis',\n",
       " 'Arundinaria_Simonii',\n",
       " 'Betula_Austrosinensis',\n",
       " 'Betula_Pendula',\n",
       " 'Callicarpa_Bodinieri',\n",
       " 'Castanea_Sativa',\n",
       " 'Celtis_Koraiensis',\n",
       " 'Cercis_Siliquastrum',\n",
       " 'Cornus_Chinensis',\n",
       " 'Cornus_Controversa',\n",
       " 'Cornus_Macrophylla',\n",
       " 'Cotinus_Coggygria',\n",
       " 'Crataegus_Monogyna',\n",
       " 'Cytisus_Battandieri',\n",
       " 'Eucalyptus_Glaucescens',\n",
       " 'Eucalyptus_Neglecta',\n",
       " 'Eucalyptus_Urnigera',\n",
       " 'Fagus_Sylvatica',\n",
       " 'Ginkgo_Biloba',\n",
       " 'Ilex_Aquifolium',\n",
       " 'Ilex_Cornuta',\n",
       " 'Liquidambar_Styraciflua',\n",
       " 'Liriodendron_Tulipifera',\n",
       " 'Lithocarpus_Cleistocarpus',\n",
       " 'Lithocarpus_Edulis',\n",
       " 'Magnolia_Heptapeta',\n",
       " 'Magnolia_Salicifolia',\n",
       " 'Morus_Nigra',\n",
       " 'Olea_Europaea',\n",
       " 'Phildelphus',\n",
       " 'Populus_Adenopoda',\n",
       " 'Populus_Grandidentata',\n",
       " 'Populus_Nigra',\n",
       " 'Prunus_Avium',\n",
       " 'Prunus_X_Shmittii',\n",
       " 'Pterocarya_Stenoptera',\n",
       " 'Quercus_Afares',\n",
       " 'Quercus_Agrifolia',\n",
       " 'Quercus_Alnifolia',\n",
       " 'Quercus_Brantii',\n",
       " 'Quercus_Canariensis',\n",
       " 'Quercus_Castaneifolia',\n",
       " 'Quercus_Cerris',\n",
       " 'Quercus_Chrysolepis',\n",
       " 'Quercus_Coccifera',\n",
       " 'Quercus_Coccinea',\n",
       " 'Quercus_Crassifolia',\n",
       " 'Quercus_Crassipes',\n",
       " 'Quercus_Dolicholepis',\n",
       " 'Quercus_Ellipsoidalis',\n",
       " 'Quercus_Greggii',\n",
       " 'Quercus_Hartwissiana',\n",
       " 'Quercus_Ilex',\n",
       " 'Quercus_Imbricaria',\n",
       " 'Quercus_Infectoria_sub',\n",
       " 'Quercus_Kewensis',\n",
       " 'Quercus_Nigra',\n",
       " 'Quercus_Palustris',\n",
       " 'Quercus_Phellos',\n",
       " 'Quercus_Phillyraeoides',\n",
       " 'Quercus_Pontica',\n",
       " 'Quercus_Pubescens',\n",
       " 'Quercus_Pyrenaica',\n",
       " 'Quercus_Rhysophylla',\n",
       " 'Quercus_Rubra',\n",
       " 'Quercus_Semecarpifolia',\n",
       " 'Quercus_Shumardii',\n",
       " 'Quercus_Suber',\n",
       " 'Quercus_Texana',\n",
       " 'Quercus_Trojana',\n",
       " 'Quercus_Variabilis',\n",
       " 'Quercus_Vulcanica',\n",
       " 'Quercus_x_Hispanica',\n",
       " 'Quercus_x_Turneri',\n",
       " 'Rhododendron_x_Russellianum',\n",
       " 'Salix_Fragilis',\n",
       " 'Salix_Intergra',\n",
       " 'Sorbus_Aria',\n",
       " 'Tilia_Oliveri',\n",
       " 'Tilia_Platyphyllos',\n",
       " 'Tilia_Tomentosa',\n",
       " 'Ulmus_Bergmanniana',\n",
       " 'Viburnum_Tinus',\n",
       " 'Viburnum_x_Rhytidophylloides',\n",
       " 'Zelkova_Serrata']"
      ]
     },
     "execution_count": 13,
     "metadata": {},
     "output_type": "execute_result"
    }
   ],
   "source": [
    "classes"
   ]
  },
  {
   "cell_type": "code",
   "execution_count": 14,
   "metadata": {
    "executionInfo": {
     "elapsed": 9,
     "status": "ok",
     "timestamp": 1647390513905,
     "user": {
      "displayName": "Tushar Poddar",
      "photoUrl": "https://lh3.googleusercontent.com/a-/AOh14GijjDnZ-A7eym2dGtUNA51GNiMJUMNX0T9cmQLA=s64",
      "userId": "08852664720419362192"
     },
     "user_tz": 420
    },
    "id": "LWpIJERJ-ze5"
   },
   "outputs": [],
   "source": [
    "class_dictionary = {}\n",
    "index = 0\n",
    "for i in classes:\n",
    "    class_dictionary[str(index)] = i\n",
    "    index = index + 1"
   ]
  },
  {
   "cell_type": "code",
   "execution_count": 15,
   "metadata": {
    "colab": {
     "base_uri": "https://localhost:8080/"
    },
    "executionInfo": {
     "elapsed": 10,
     "status": "ok",
     "timestamp": 1647390515007,
     "user": {
      "displayName": "Tushar Poddar",
      "photoUrl": "https://lh3.googleusercontent.com/a-/AOh14GijjDnZ-A7eym2dGtUNA51GNiMJUMNX0T9cmQLA=s64",
      "userId": "08852664720419362192"
     },
     "user_tz": 420
    },
    "id": "YXWA4Nza-zn_",
    "outputId": "32363b5a-c5f9-44de-dccd-8009a9a07f1a"
   },
   "outputs": [
    {
     "data": {
      "text/plain": [
       "{'0': 'Acer_Capillipes',\n",
       " '1': 'Acer_Circinatum',\n",
       " '2': 'Acer_Mono',\n",
       " '3': 'Acer_Opalus',\n",
       " '4': 'Acer_Palmatum',\n",
       " '5': 'Acer_Pictum',\n",
       " '6': 'Acer_Platanoids',\n",
       " '7': 'Acer_Rubrum',\n",
       " '8': 'Acer_Rufinerve',\n",
       " '9': 'Acer_Saccharinum',\n",
       " '10': 'Alnus_Cordata',\n",
       " '11': 'Alnus_Maximowiczii',\n",
       " '12': 'Alnus_Rubra',\n",
       " '13': 'Alnus_Sieboldiana',\n",
       " '14': 'Alnus_Viridis',\n",
       " '15': 'Arundinaria_Simonii',\n",
       " '16': 'Betula_Austrosinensis',\n",
       " '17': 'Betula_Pendula',\n",
       " '18': 'Callicarpa_Bodinieri',\n",
       " '19': 'Castanea_Sativa',\n",
       " '20': 'Celtis_Koraiensis',\n",
       " '21': 'Cercis_Siliquastrum',\n",
       " '22': 'Cornus_Chinensis',\n",
       " '23': 'Cornus_Controversa',\n",
       " '24': 'Cornus_Macrophylla',\n",
       " '25': 'Cotinus_Coggygria',\n",
       " '26': 'Crataegus_Monogyna',\n",
       " '27': 'Cytisus_Battandieri',\n",
       " '28': 'Eucalyptus_Glaucescens',\n",
       " '29': 'Eucalyptus_Neglecta',\n",
       " '30': 'Eucalyptus_Urnigera',\n",
       " '31': 'Fagus_Sylvatica',\n",
       " '32': 'Ginkgo_Biloba',\n",
       " '33': 'Ilex_Aquifolium',\n",
       " '34': 'Ilex_Cornuta',\n",
       " '35': 'Liquidambar_Styraciflua',\n",
       " '36': 'Liriodendron_Tulipifera',\n",
       " '37': 'Lithocarpus_Cleistocarpus',\n",
       " '38': 'Lithocarpus_Edulis',\n",
       " '39': 'Magnolia_Heptapeta',\n",
       " '40': 'Magnolia_Salicifolia',\n",
       " '41': 'Morus_Nigra',\n",
       " '42': 'Olea_Europaea',\n",
       " '43': 'Phildelphus',\n",
       " '44': 'Populus_Adenopoda',\n",
       " '45': 'Populus_Grandidentata',\n",
       " '46': 'Populus_Nigra',\n",
       " '47': 'Prunus_Avium',\n",
       " '48': 'Prunus_X_Shmittii',\n",
       " '49': 'Pterocarya_Stenoptera',\n",
       " '50': 'Quercus_Afares',\n",
       " '51': 'Quercus_Agrifolia',\n",
       " '52': 'Quercus_Alnifolia',\n",
       " '53': 'Quercus_Brantii',\n",
       " '54': 'Quercus_Canariensis',\n",
       " '55': 'Quercus_Castaneifolia',\n",
       " '56': 'Quercus_Cerris',\n",
       " '57': 'Quercus_Chrysolepis',\n",
       " '58': 'Quercus_Coccifera',\n",
       " '59': 'Quercus_Coccinea',\n",
       " '60': 'Quercus_Crassifolia',\n",
       " '61': 'Quercus_Crassipes',\n",
       " '62': 'Quercus_Dolicholepis',\n",
       " '63': 'Quercus_Ellipsoidalis',\n",
       " '64': 'Quercus_Greggii',\n",
       " '65': 'Quercus_Hartwissiana',\n",
       " '66': 'Quercus_Ilex',\n",
       " '67': 'Quercus_Imbricaria',\n",
       " '68': 'Quercus_Infectoria_sub',\n",
       " '69': 'Quercus_Kewensis',\n",
       " '70': 'Quercus_Nigra',\n",
       " '71': 'Quercus_Palustris',\n",
       " '72': 'Quercus_Phellos',\n",
       " '73': 'Quercus_Phillyraeoides',\n",
       " '74': 'Quercus_Pontica',\n",
       " '75': 'Quercus_Pubescens',\n",
       " '76': 'Quercus_Pyrenaica',\n",
       " '77': 'Quercus_Rhysophylla',\n",
       " '78': 'Quercus_Rubra',\n",
       " '79': 'Quercus_Semecarpifolia',\n",
       " '80': 'Quercus_Shumardii',\n",
       " '81': 'Quercus_Suber',\n",
       " '82': 'Quercus_Texana',\n",
       " '83': 'Quercus_Trojana',\n",
       " '84': 'Quercus_Variabilis',\n",
       " '85': 'Quercus_Vulcanica',\n",
       " '86': 'Quercus_x_Hispanica',\n",
       " '87': 'Quercus_x_Turneri',\n",
       " '88': 'Rhododendron_x_Russellianum',\n",
       " '89': 'Salix_Fragilis',\n",
       " '90': 'Salix_Intergra',\n",
       " '91': 'Sorbus_Aria',\n",
       " '92': 'Tilia_Oliveri',\n",
       " '93': 'Tilia_Platyphyllos',\n",
       " '94': 'Tilia_Tomentosa',\n",
       " '95': 'Ulmus_Bergmanniana',\n",
       " '96': 'Viburnum_Tinus',\n",
       " '97': 'Viburnum_x_Rhytidophylloides',\n",
       " '98': 'Zelkova_Serrata'}"
      ]
     },
     "execution_count": 15,
     "metadata": {},
     "output_type": "execute_result"
    }
   ],
   "source": [
    "class_dictionary"
   ]
  },
  {
   "cell_type": "code",
   "execution_count": null,
   "metadata": {
    "id": "7w2Oid6z-zzS"
   },
   "outputs": [],
   "source": []
  }
 ],
 "metadata": {
  "colab": {
   "authorship_tag": "ABX9TyOe5X+6cRsX/ZHEDVQXPkfG",
   "name": "final455.ipynb",
   "provenance": []
  },
  "kernelspec": {
   "display_name": "Python 3 (ipykernel)",
   "language": "python",
   "name": "python3"
  },
  "language_info": {
   "codemirror_mode": {
    "name": "ipython",
    "version": 3
   },
   "file_extension": ".py",
   "mimetype": "text/x-python",
   "name": "python",
   "nbconvert_exporter": "python",
   "pygments_lexer": "ipython3",
   "version": "3.8.2"
  }
 },
 "nbformat": 4,
 "nbformat_minor": 1
}
